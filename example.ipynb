{
 "cells": [
  {
   "cell_type": "code",
   "execution_count": 1,
   "id": "0160a57e-837f-4d9e-bc51-4efedb804f0b",
   "metadata": {},
   "outputs": [],
   "source": [
    "#Delete the data directory for 'chain' to restart the example\n",
    "!rm -rf pychain__chain"
   ]
  },
  {
   "cell_type": "code",
   "execution_count": null,
   "id": "0abda9c0-f1a3-4be5-a0b4-69662c043063",
   "metadata": {},
   "outputs": [],
   "source": [
    "#import library\n",
    "from ChainEngine import Connection, PyChain, SSHKey\n",
    "\n",
    "#Enter our private & public keys to identify ourselves on the chain\n",
    "private_key='MIIEogIBAAKCAQEArUQjQ0KDjJ7dYjYnegauAECfP9Hpndys6ZuwWD6Wo/GF1xEz\\nRQhAug8QrFAw/CUyqrTVWBtlngwJ6CxukTTDM2Y4hYFMgW8d062leIFhume4wXoE\\n24RA6Uo4LBPm2tpyPSiwzGnU1PzPTaANRaTf+8R4h2Axu36iBWBuns9RjsnIiSNk\\ngq4RMRHuVv27WwbX+MkUuQW83R7mTz60/jaFaoYAEAe6z4KdZ+2k5kzNf705EtlG\\nYVgd7eF3qFZIDBEKDApbKdwo5N4zsdxsY8eptAuUucgOJ6vVAesBzGgr2KVXOTfP\\nq8LAcZVi0IqJdDVsHCWjzYUtmAJ8PqwoKUwd7wIDAQABAoH/FYgfDks+vYp2IKjg\\nv7SSuTGAelWkt13A22V7iYFdetc9bqmVZ0zwM965PhWp3L3BRXxqz3WAnBTkS6UC\\nif3oM4KaF5xO8V2kNryyqq+CT4M46NJDG0xx5zSww5OJSb32F6qB6nD0eEqtSVF/\\ngmWw0kJMwHKnYC3KeCA8dBatipOdywUZWBisjBmrCxaHW2QFndtUJj/ObFmKAyTN\\nksKKHocjfx3afxgTv4vwSb/u2EVOOCzuZQQLjd2+pIs/9M2FufN9eCkPG/owTbvy\\nA74iTL9MQc316VyUsxiWFmJgbju8xFZ6UbB2iBlPG94mDU9wVKN4WBD36RX80OcI\\n/5WVAoGBAN0pJUgkkMPOlJQqo19qVoqmjKAX0Qnpx3bdB7r3vzjSLWTM6DE2ZM/P\\nOnezGuf0gvWvZdc1j/ksx9azUyIUqTd2Fr0RzxCw0KRU0Pn8XOgRZik7PZOxrJhn\\nFQH2E3BETVAIDDTx0wrGEG8tKuttcLk1zPyWxDf/faBrDzYIlkJtAoGBAMiPhnM3\\nKCOldtAA0VSCh2kfMLHS0TrnTFeW0xgCdUKxd3rbMx8ZkjH+o47rMVXrBWEWxDED\\n+Tx2Y+4oNlw0h53fPUbveb0Eah2ZTLBiwAKlqvwFYhSG+kCG55O08eR0k2XcPzsk\\nHZGSun7JjgAl9anOTQioB+7jcLEege+N+EhLAoGBAMeAqWf1zD1GKhOqjuuwslaq\\nvSphsaleoRdhdeq8OFxahKZsjXxvU+t+RYDbKYdas5RLX/QOFk0xjyfnZjPVLXyh\\nYwu1d/PXfK7w7/7CH1Ec+OpyzS5hVY+5VWMKhyh8BL4QNGrCRp1uZD7WIOR1Of1p\\nQfwNSP421C2Uxgj5IArVAoGBAIxVqS07PfHbWIxo1hA9GUTcFzWGHvMJXyi2l1Ro\\ne+ZDySeE83tiaCJlW8qoFShaP7RUusjVT/MXoArHxmm0M+SqjPTyogs5aIr3dmrB\\nXjs78q1PkvZsD/VQr/9xkARb8btHZlMajToMIkSPAbZm2UOM3+gbsxlbucGlaCPY\\nAg+LAoGADMTRqeLyoseEcnDHdn+kVrQOpt6jwZrQZU1jscdrQ3hQTN7jW6+Ci52M\\nc+SpWeajxvwmvCcI3NbNT3hBug7+Sgx5828b7nTffiNjKWm4WG92CUAiyiLPspuF\\nZpwybkiNC5D7yzqbCAQQcrR0TwISkj43sKgxR9sBfapln0tsIyk='\n",
    "public_key='MIIBIjANBgkqhkiG9w0BAQEFAAOCAQ8AMIIBCgKCAQEArUQjQ0KDjJ7dYjYnegau\\nAECfP9Hpndys6ZuwWD6Wo/GF1xEzRQhAug8QrFAw/CUyqrTVWBtlngwJ6CxukTTD\\nM2Y4hYFMgW8d062leIFhume4wXoE24RA6Uo4LBPm2tpyPSiwzGnU1PzPTaANRaTf\\n+8R4h2Axu36iBWBuns9RjsnIiSNkgq4RMRHuVv27WwbX+MkUuQW83R7mTz60/jaF\\naoYAEAe6z4KdZ+2k5kzNf705EtlGYVgd7eF3qFZIDBEKDApbKdwo5N4zsdxsY8ep\\ntAuUucgOJ6vVAesBzGgr2KVXOTfPq8LAcZVi0IqJdDVsHCWjzYUtmAJ8PqwoKUwd\\n7wIDAQAB'\n",
    "#Define our connection\n",
    "conn=Connection(private_key=private_key,public_key=public_key,host='127.0.0.1')\n",
    "#Create first node \n",
    "node=PyChain('chain',conn)\n",
    "#Add initial data to blockchian\n",
    "node.insert({'id':1})\n",
    "node.insert({'id':2})\n"
   ]
  },
  {
   "cell_type": "code",
   "execution_count": null,
   "id": "c962aca6-6f7b-4395-81ca-9bbb7b9d2f26",
   "metadata": {},
   "outputs": [],
   "source": [
    "#Generate a new SSH Key\n",
    "keys=SSHKey()\n",
    "\n",
    "#Get current authorized SSH Keys\n",
    "ssh_keys=node.get_ssh_keys()\n",
    "#Add the new public key to authorized SSH Keys\n",
    "ssh_keys.append(keys.get('keys').get('public'))\n",
    "#Save the new authorized SSH key configuration\n",
    "node.set_ssh_keys(ssh_keys)"
   ]
  },
  {
   "cell_type": "code",
   "execution_count": null,
   "id": "617ceb73-cc98-4eaa-8020-59269240a6b7",
   "metadata": {},
   "outputs": [],
   "source": [
    "#Create a new node using the newly authorized key\n",
    "private_key_1=keys.get('keys').get('private')\n",
    "public_key_1=keys.get('keys').get('public')\n",
    "host_1='127.0.0.1'\n",
    "port_1=node.port\n",
    "#Define connection so that we are connected to the first node we created\n",
    "conn_1=Connection(private_key = private_key_1, \n",
    "                public_key = public_key_1, \n",
    "                host = host_1, \n",
    "                host_port = port_1)\n",
    "#Create node\n",
    "node_1=PyChain('chain',conn_1)\n",
    "#Insert new data to blockchain\n",
    "node_1.insert({'id': 9})\n",
    "node_1.insert({'id': 10})"
   ]
  },
  {
   "cell_type": "code",
   "execution_count": null,
   "id": "29bb76f5-8aaa-4dd7-9941-55b9f79eab1c",
   "metadata": {},
   "outputs": [],
   "source": [
    "#Execute code remotely from the first node, on the second node.\n",
    "#In this example we are simply calculating the nuber of row type blocks that exist in our chain.\n",
    "code=\"\"\"\n",
    "import pandas as pd\n",
    "import json\n",
    "\n",
    "chain_data = json.loads(chain.to_json(orient='records'))\n",
    "count_of_rows=len(chain_data)\n",
    "del chain_data\n",
    "\"\"\"\n",
    "response=node.execute(code,'192.168.1.136',node_1.port)\n",
    "result=response[0]['count_of_rows']\n",
    "print(f\"The number of rows in the chain are: {result}\")"
   ]
  },
  {
   "cell_type": "code",
   "execution_count": null,
   "id": "30982bb5-d11d-4575-a221-87f27e2f9d1b",
   "metadata": {},
   "outputs": [],
   "source": [
    "#View the current data saved to the chain\n",
    "node_1.select()"
   ]
  },
  {
   "cell_type": "code",
   "execution_count": null,
   "id": "28346b46-bb3f-4353-9371-57af10011959",
   "metadata": {},
   "outputs": [],
   "source": [
    "#View the entire chain\n",
    "node.chain.chain"
   ]
  },
  {
   "cell_type": "code",
   "execution_count": null,
   "id": "888f673e-5b29-46ba-978f-0656b127a2ef",
   "metadata": {},
   "outputs": [],
   "source": []
  }
 ],
 "metadata": {
  "kernelspec": {
   "display_name": "Sandbox Env",
   "language": "python",
   "name": "sandbox"
  },
  "language_info": {
   "codemirror_mode": {
    "name": "ipython",
    "version": 3
   },
   "file_extension": ".py",
   "mimetype": "text/x-python",
   "name": "python",
   "nbconvert_exporter": "python",
   "pygments_lexer": "ipython3",
   "version": "3.12.6"
  }
 },
 "nbformat": 4,
 "nbformat_minor": 5
}
